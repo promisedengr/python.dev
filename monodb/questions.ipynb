{
  "cells": [
    {
      "cell_type": "markdown",
      "metadata": {
        "id": "liPptOSSaXDp"
      },
      "source": [
        "\n",
        "\n",
        "### Context \n",
        "\n",
        "You have been hired by ChessChowDown Inc. to provide insights on chess games played in the Lichess portal. Your insights will be used by the company to develop new learning materials. \n",
        "\n",
        "### Schema\n",
        "\n",
        "You are given a dataset of chess games played on the Lichess website (lichess.org), each game document has the following fields:\n",
        "\n",
        "\n",
        "* **event**: Type of event the game was played \n",
        "* **site**: Where the game was played \n",
        "* **date**: date the game was played\n",
        "* **UTCdate** : date in UTC format\n",
        "* **UTCtime**: time the game was played in UTC format\n",
        "* **White**: username of the White player\n",
        "* **Black**: username of the Black player\n",
        "* **ECO**: Alphanumeric code of the opening played in the game\n",
        "* **opening**: Name of the opening played in the game\n",
        "* **TimeControl**: Time control the game was played, e.g, 60 + 0 seconds per move increment or 5min + 3 seconds per increment\n",
        "* **result**: result of the game\n",
        "* **WhiteElo**: Elo rating of the White player at the time of the game (https://www.chess.com/terms/elo-rating-chess)\n",
        "* **BlackElo**: Elo rating of the Black player at the time of the game\n",
        "* **moves**: list of moves of the game, each move is a sub-document with the following fields:\n",
        "\n",
        "    * **number**: Number of the move\n",
        "    * **turn**: false if it was White move, true if it was Black move. Note that it is important to consider move number together with the turn: one can have move = 1 and turn = False (White's first move) and move = 1 and turn = True (Black's first move)\n",
        "    * **clock**: player’s remaining time to the next time control after this move, in seconds\n",
        "    * **move**: the algebraic notation of the move https://en.wikipedia.org/wiki/Algebraic_notation_(chess) \n",
        "\n",
        "    * **eval**: A subdocument with the evaluation of the position after the move calculated by a computer chess engine: \n",
        "  {'unit' : centipawns or mate , 'value' : an integer}. \n",
        "  \n",
        "  If unit is 'centipawns', then 'value' is an integer that quantifies the advantage/disadvantage in the position after the move, from the point of view of the White player. A positive value indicates White player has a better position, a negative value indicates Black has a better position. \n",
        "  If unit is 'mate', then 'value' is the number of moves until checkmate. A positive value indicates that White player can checkmate in 'value' moves, a negative value, that Black player can checkmate in 'value' moves. \n",
        "  As checkmate ends the game, a mate evaluation indicates a very large advantage.\n"
      ]
    },
    {
      "cell_type": "markdown",
      "metadata": {
        "id": "MsAh0QCtaXDv"
      },
      "source": [
        "| Task1 | Marks |  100% | 80% | 60% | \n",
        "| --- | --- | --- | --- | --- | \n",
        "|  q6 | 10  |  30sec   | 90sec   | 5minutes   |\n",
        "|  q7 | 8 | 15sec    | 60sec   | 4minutes   |\n",
        "|  q8 | 12 | 30 sec    | 120sec | 5minutes  | \n",
        "|  q9 | 10   | 30 sec   |  120sec  | 5minutes  |\n",
        "|  q10| 10  |  30sec  | 120sec  | 5minutes   |\n",
        "\n",
        "\n"
      ]
    },
    {
      "cell_type": "code",
      "execution_count": 11,
      "metadata": {
        "ExecuteTime": {
          "end_time": "2022-10-19T10:56:27.141128Z",
          "start_time": "2022-10-19T10:56:26.800558Z"
        },
        "colab": {
          "base_uri": "https://localhost:8080/",
          "height": 375
        },
        "id": "Pv9UUcjhaXDv",
        "outputId": "d2fbefd8-4974-46f5-eaf1-9bb1fb194025"
      },
      "outputs": [
        {
          "data": {
            "text/plain": [
              "<pymongo.results.DeleteResult at 0x26af24d1a80>"
            ]
          },
          "execution_count": 11,
          "metadata": {},
          "output_type": "execute_result"
        }
      ],
      "source": [
        "#import section\n",
        "import pymongo\n",
        "from pymongo import MongoClient\n",
        "from datetime import datetime\n",
        "from pprint import pprint\n",
        "import networkx as nx\n",
        "import pandas as pd\n",
        "\n",
        "# Creation of pyMongo connection object\n",
        "client = MongoClient('mongodb://localhost:27017/')\n",
        "db = client['admin']\n",
        "games_collection = db['games']\n",
        "\n",
        "## The snippet below deletes two games that create an issue with Question 2\n",
        "## For more info, check the announcement\n",
        "from bson.objectid import ObjectId\n",
        "\n",
        "games_collection.delete_one({'_id':ObjectId('634d2bc62269f69fcfb74448')})\n",
        "games_collection.delete_one({'_id':ObjectId('634d2bc62269f69fcfb7444a')})"
      ]
    },
    {
      "cell_type": "markdown",
      "metadata": {
        "id": "YpMUUYh5aXD1"
      },
      "source": [
        "### Question 6\n",
        "\n",
        "A \"blunder\" is defined as a move that makes the evaluation of a position to lose >=200 centipawns, with respect to the evaluation of the previous move by the opponent _from the point of view of the player that made the move_ \n",
        "\n",
        "Examples:\n",
        "\n",
        "* After Black's move 21 the evaluation is 50 centipawns and after White's move 22 the evaluation is -150 centipawns. White's move 22 is a blunder. \n",
        "* After White's move 36 the evaluation is 600 centipawns and after Black's move 36 the evaluation is checkmate for White in any number of moves. Black's move 36 is a blunder.\n",
        "* After White's move 26 the evaluation is 50 centipawns and after Black's move 26 the evaluation is 300 centipawns. Black's move 26 is a blunder\n",
        "* After Black's move 44, the evaluation is Mate in 4, that is, White checkmates in 4 moves, and after White's move 45 the evaluation is 600 centipawns. White's move 45 is a blunder\n",
        "\n",
        "(Note the following case is not considered a blunder: After Black's move 44, the evaluation is Mate in 4, that is, White checkmates in 4 moves, and after White's move 45 the evaluation is Mate in 12.)\n",
        "\n",
        "\n",
        "Remember evaluation values are expressed in terms of White's point of view. In the third example above, the evaluation increased more than 200 centipawns, but from Black's point of view, they are more than 200 centipawns worst, hence, the move was a blunder.\n",
        "\n",
        "Write a function to add to each \"move\" subdocument of each game document a boolean field 'blunder' with true if the move is a blunder and false if it's not.\n",
        "\n",
        "\n",
        "===== Further explanation on blunder definition, there are 6 cases to consider, we provide an example for each of them:\n",
        "\n",
        "**1) White Blunders a worst position.**\n",
        "\n",
        "   Previous move by Black {eval: {unit: centipawns , value: 300} (White has an 300 centipawns advantage)\n",
        "\n",
        "   Current move by White {eval: {unit: centipawns , value: 100} (White has a 100 centipawns advantage)\n",
        "\n",
        "   White's move lost 200 centipawns of advantage, it is a blunder\n",
        "\n",
        "**2) Black blunders a worst position**\n",
        "\n",
        "   Previous move by White {eval: {unit: centipawns , value: -300} (Black has a 300 centipawns advantage)\n",
        "\n",
        "   Current move by Black {eval: {unit: centipawns , value: -100} (Black has a 100 centipawns advantage)\n",
        "\n",
        "   Black's move lost 200 centipawns of advantage, it is a blunder.\n",
        "\n",
        "**3) White blunders mate**\n",
        "\n",
        "   Previous move by Black {eval: {unit: centipawns , value: -300} (White has a 300 centipawns disadvantage)\n",
        "\n",
        "   Current move by White {eval: {unit: mate , value: -3} (Black can mate in 3 moves)\n",
        "\n",
        "   White's move made them go from disadvantage, to get mated. It is a blunder.\n",
        "\n",
        "\n",
        "**4) Black blunders mate**\n",
        "\n",
        "   Previous move by White {eval: {unit: centipawns , value: -300} (Black has a 300 centipawns advantage)\n",
        "\n",
        "   Current move by Black {eval: {unit: mate , value: 3} (White can mate in 3 moves)\n",
        "\n",
        "  Black's move made them go from advantage, to mate for White. It is a blunder.\n",
        "\n",
        "**5) White misses mate**\n",
        "\n",
        "   Previous move by Black {eval: {unit: mate , value: 3} (White can mate in 3 moves)\n",
        "\n",
        "   Current move by White {eval: {unit: centipawns , value: 800} (White has a 800 centipawns advantage)\n",
        "\n",
        "   White's move made them go from mate to an advantage. It is a blunder (here is where it might be useful to think about mate for White as +100000)\n",
        "\n",
        "  Note also the following as a blunder:\n",
        "\n",
        "   Previous move by Black {eval: {unit: mate , value: 3} (White can mate in 3 moves)\n",
        "\n",
        "   Current move by White {eval: {unit: mate , value: -5} (Black can mate in 5 moves)\n",
        "\n",
        "   White's move made them go from mate for them to mate for Black. It is a blunder\n",
        "\n",
        "**6) Black misses mate**\n",
        "\n",
        "   Previous move by White {eval: {unit: mate , value: -3} (Black can mate in 3 moves)\n",
        "\n",
        "   Current move by Black {eval: {unit: centipawns , value: 800} (White has a 800 centipawns advantage)\n",
        "\n",
        "   Black's move made them go from mate to a disdvantage. It is a blunder (here is where it might be useful to think in mate for Black as -100000)\n",
        "\n",
        "\n"
      ]
    },
    {
      "cell_type": "code",
      "execution_count": 18,
      "metadata": {
        "ExecuteTime": {
          "end_time": "2022-12-09T17:09:33.399831Z",
          "start_time": "2022-12-09T17:09:33.330273Z"
        },
        "id": "_V4LO9LRaXD1"
      },
      "outputs": [
        {
          "name": "stdout",
          "output_type": "stream",
          "text": [
            "Rated Classical game\n"
          ]
        }
      ],
      "source": [
        "def add_blunder_field(games_collection):\n",
        "    # print(games_collection['moves'][0])\n",
        "    # print(games_collection.count())\n",
        "    games_collection.find_one({'event': 'Rated Classical game'})\n",
        "    p = list(games_collection.find())\n",
        "    print(p.count())\n",
        "    # print(games_collection.find_one({'event': 'Rated Classical game'})['event'])\n",
        "    #your code here\n",
        "    # pass\n",
        "\n",
        "# Apply the function to add blunder fields\n",
        "add_blunder_field(games_collection)"
      ]
    },
    {
      "cell_type": "markdown",
      "metadata": {
        "id": "kVfRAneNaXD2"
      },
      "source": [
        "###  Question 7\n",
        "\n",
        "Now that we have blunders data, the company wants to get insights on the factors that may be related to them. They believe that openings where more blunders happen are \"more difficult\", hence, creating learning resources for those would make business sense. They set as cut-point for the opening phase of a game the first 15 moves (inclusive, and of both White and Black) and ask you to prepare data for a statistical analysis of the correlation between ECO codes and opening phase blunders.\n",
        "\n",
        "Write code for a function that returns a pandas DataFrame with three columns:\n",
        "\n",
        "1. ECO: the opening code.\n",
        "2. Games: the number of games with that ECO\n",
        "3. MOB: Median Opening Blunders, median of number of blunders in the opening phase \n",
        "\n",
        "\n",
        "Example output:\n",
        "\n",
        "| ECO | Games | MOB |\n",
        "| --- | --- | ---- |\n",
        "| C38 | 3756  |   8   |\n",
        "| C39 | 2100 | 4 |\n",
        "| C40 | 1152 | 2 |\n",
        "| ... | ... | ... |\n",
        "\n",
        "NOTE: The correctness of question 6 will not affect your mark on question 7.\n",
        "If you find question 6 challenging, you may want to create a test question 7 before coming back to question 6\n",
        "\n"
      ]
    },
    {
      "cell_type": "code",
      "execution_count": null,
      "metadata": {
        "id": "g0AKa23qaXD3"
      },
      "outputs": [],
      "source": [
        "def blunders_vs_openings(games_collection):\n",
        "    ## Your code here\n",
        "    # return a pandas DataFrame\n",
        "    pass\n",
        "    "
      ]
    },
    {
      "cell_type": "markdown",
      "metadata": {
        "id": "SEYQhhnhaXD3"
      },
      "source": [
        "### Question 8\n",
        "\n",
        "An essential aspect of online chess is cheating detection. Cheaters transfer moves in their games to chess computer engines and play back the moves computed by the engine. Two factors that suggest a player might be cheating are long winning streaks and low move time standard deviation, that is, taking the same time to play each of their moves. Cheat games are useless for the purposes of ChessChowDown, therefore, bosses are interested in filtering them out.\n",
        "\n",
        "Write a function that receives the following input parameters: \n",
        "\n",
        " * minStreak: minimum number of consecutive wins to warrant cheating analysis\n",
        " * TimeControl: Time Control to analyse\n",
        " * maxTimeStd: maximum move time standard deviation to flag as cheater\n",
        " \n",
        " and returns a list of potential cheating usernames that match all the following conditions:\n",
        " \n",
        " 1. Have won 'minStreak' or more consecutive games played with 'TimeControl' at least once.\n",
        " 2. For all of the username's winning streaks with length greater or equal than 'minStreak'played with 'TimeControl', each game has a move time standard deviation lower or equal than maxTimeStd \n",
        " \n",
        " For efficiency evaluation, we will use the TimeControl with the most games, minStreak = 3 and maxTimeStd = 1\n",
        "\n",
        "\n"
      ]
    },
    {
      "cell_type": "code",
      "execution_count": null,
      "metadata": {
        "id": "W5KrUAmVaXD3"
      },
      "outputs": [],
      "source": [
        "def cheater_detector(games_collection,minStreak,timeControl,maxTimeStd):\n",
        "    #your code here\n",
        "    #return list of suspicious usernames  \n",
        "    pass"
      ]
    },
    {
      "cell_type": "markdown",
      "metadata": {
        "id": "PSNr1yYoaXD4"
      },
      "source": [
        "### Question 9\n",
        "\n",
        "The company now wants to explore the social aspect of the games. The team decides it is a good idea to store explicit information about who plays against who, in preparation for further social network analysis. \n",
        "\n",
        "Write a function that creates a new collection named \"social\" with the following schema:\n",
        "\n",
        "* \"username\" : username\n",
        "* \"numgames\" : number of games played by username with any colour\n",
        "* \"played\" : list of subdocuments with the following schema:\n",
        "     \"username\" : opponent's username (different from parent username)\n",
        "     \"numgames\" : Number of games played between parent username and opponent username\n",
        "     \"gameids\" : list of id of the games played between parent username and opponent username\n",
        "\n",
        "An example subset of the new collection is shown below.\n",
        "\n",
        "\n",
        "\n",
        "```JSON\n",
        "{\n",
        "\"username\" : \"DataKnight\",\n",
        "\"numgames\" : 28 ,\n",
        "\"played\" : [ { \"username\" : \"MongoQueen\", \"numgames\" : 12 , \n",
        "\"gameids\" : [\"ids of the games between DataKnight and MongoQueen\"] } , \n",
        "            {\"username\" : \"ThePandas\", \"numgames\" : 14 , \n",
        "            \"gameids\" : [\"ids of the games between DataKnight and ThePandas\"] } , \n",
        "\t\t\t{\"username\" : \"JupyterGod\", \"numgames\" : 2 ,\n",
        "            \"gameids\" : [\"ids of the games between DataKnight and JupyterGod\"] }]\n",
        "}\n",
        "{\n",
        "\"username\" : \"MongoQueen\",\n",
        "\"numgames\" : 20,\n",
        "\"played\" : [ { \"username\" : \"DataKnight\", \"numgames\" : 12 ,\n",
        "\"gameids\" : [\"ids of the games between MongoQueen and DataKnight]\" } , \n",
        "            {\"username\" : \"Hadoooooooop\", \"numgames\" : 6 , \n",
        "            \"gameids\" : [\"ids of the games between MongoQueen and Hadoooooooop\"]  }, \n",
        "\t\t\t{\"username\" : \"JupyterGod\", \"numgames\" : 2 , \n",
        "            \"gameids\" : [\"ids of the games between MongoQueen and JupyterGod\"]} ]\n",
        "}\n",
        "```"
      ]
    },
    {
      "cell_type": "code",
      "execution_count": null,
      "metadata": {
        "id": "EVPL4M95aXD4"
      },
      "outputs": [],
      "source": [
        "def create_social(games_collection):\n",
        "    #your code here\n",
        "    pass"
      ]
    },
    {
      "cell_type": "markdown",
      "metadata": {
        "id": "DCtwWRLuaXD5"
      },
      "source": [
        "### Question 10\n",
        "\n",
        "The company wants to investigate communities of players that play the same openings  \n",
        "\n",
        "Write a function that receives as input a list of ECO codes 'ecoCodes' and construct a networkx graph as follows \n",
        "\n",
        " * Nodes are labeled with usernames\n",
        " * A directed edge from user1 to user 2 for each game g such that g's ECO is in the ecoCodes list, user1 played White and user2 played Black\n",
        "   (Subject of clarification, it was \"if a game g exists such that\")\n",
        " * Each directed edge is labeled with the result of the game it represents.\n",
        " (Note this is a MultiDirectedGraph)\n",
        " \n",
        " Using that graph, return the following dictionary:\n",
        " \n",
        " { 'graph' : the networkx graph,\n",
        "   'mostWhite' : username that played the most games as White ,   \n",
        "   'mostBlack' : username that played the most games as Black  ,\n",
        "   'keyPlayers' : list of usernames with highest betweenness centrality \n",
        " }\n",
        " \n",
        " Assume the length of ecoCodes is restricted to at most 5. For efficiency evaluation, we will use this 5 ECO Codes : ['A80','B16','B17','B18','B19']\n",
        " (This was the subject of a correction, it was previously the 5 ECO codes with most games )\n",
        " \n",
        " Hint: To compute centrality, use the subgraph of the MultiDirectedGraph induced by removing all but one of the edges\n",
        "\n",
        "\n"
      ]
    },
    {
      "cell_type": "code",
      "execution_count": null,
      "metadata": {
        "ExecuteTime": {
          "end_time": "2022-10-19T11:48:15.927200Z",
          "start_time": "2022-10-19T11:48:15.419364Z"
        },
        "id": "7CUGe-qLaXD5"
      },
      "outputs": [],
      "source": [
        "def opening_community(games_collection,ecoCodes):\n",
        "    #your code here\n",
        "    # Return dictionary below with corresponding values\n",
        "    \"\"\"\n",
        "    return { 'graph' : the networkx graph\n",
        "    'mostWhite' : username that played the most games as White \n",
        "    'mostBlack' : username that played the most games as black \n",
        "    'keyPlayers' : list of usernames with highest betweenness centrality \n",
        "    }\n",
        "    \"\"\"\n",
        "    pass"
      ]
    }
  ],
  "metadata": {
    "colab": {
      "provenance": []
    },
    "kernelspec": {
      "display_name": "Python 3",
      "language": "python",
      "name": "python3"
    },
    "language_info": {
      "codemirror_mode": {
        "name": "ipython",
        "version": 3
      },
      "file_extension": ".py",
      "mimetype": "text/x-python",
      "name": "python",
      "nbconvert_exporter": "python",
      "pygments_lexer": "ipython3",
      "version": "3.10.4"
    },
    "vscode": {
      "interpreter": {
        "hash": "2ea58506c0e15ceccf22e9f3c26ebe8ddd86958920a3005701928c55220f7bcc"
      }
    }
  },
  "nbformat": 4,
  "nbformat_minor": 0
}
